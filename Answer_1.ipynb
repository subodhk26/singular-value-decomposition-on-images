{
  "nbformat": 4,
  "nbformat_minor": 0,
  "metadata": {
    "accelerator": "GPU",
    "colab": {
      "name": "Answer_1.ipynb",
      "provenance": [],
      "collapsed_sections": [],
      "include_colab_link": true
    },
    "kernelspec": {
      "display_name": "Python 3",
      "language": "python",
      "name": "python3"
    },
    "language_info": {
      "codemirror_mode": {
        "name": "ipython",
        "version": 3
      },
      "file_extension": ".py",
      "mimetype": "text/x-python",
      "name": "python",
      "nbconvert_exporter": "python",
      "pygments_lexer": "ipython3",
      "version": "3.6.9"
    }
  },
  "cells": [
    {
      "cell_type": "markdown",
      "metadata": {
        "id": "view-in-github",
        "colab_type": "text"
      },
      "source": [
        "<a href=\"https://colab.research.google.com/github/subodhk26/singular-value-decomposition-on-images/blob/master/Answer_1.ipynb\" target=\"_parent\"><img src=\"https://colab.research.google.com/assets/colab-badge.svg\" alt=\"Open In Colab\"/></a>"
      ]
    },
    {
      "cell_type": "markdown",
      "metadata": {
        "colab_type": "text",
        "id": "jHLjVOxXaFXD"
      },
      "source": [
        "# Machine Learning for Computer Vision: \n",
        "\n",
        "Lab Sessions by: Monu Verma \n",
        "\n",
        "# Tutorial 4: Image classification using Artificial Neural Network\n",
        "**In this tutorial, we provide you a brief introduction to classify images using ANN classifier.**\n",
        "\n",
        "**Classification** is a technique where we categorize data into a given number of classes. The main goal of a classification problem is to identify the category/class to which a new data will fall under.\n",
        "\n",
        "Few of the terminologies encountered in machine learning – classification: \n",
        "\n",
        "a. *Classifier*: An algorithm that maps the input data to a specific category.\n",
        "\n",
        "b. *Classification model*: A classification model tries to draw some conclusion from the input values given for training. It will predict the class labels/categories for the new data.\n",
        "\n",
        "c. *Feature*: A feature is an individual measurable property of a phenomenon being observed.\n",
        "\n",
        "d. *Binary Classification*: Classification task with two possible outcomes. Eg: Gender classification (Male / Female)\n",
        "Multi-class classification: Classification with more than two classes. In multi class classification each sample is assigned to one and only one target label. Eg: An animal can be cat or dog but not both at the same time\n",
        "\n",
        "e. *Multi-label classification*: Classification task where each sample is mapped to a set of target labels (more than one class). Eg: A news article can be about sports, a person, and location at the same time.\n",
        "\n",
        "\n",
        "**The following are the steps involved in building a classification model:**\n",
        "\n",
        "1. Initialize the classifier to be used.\n",
        "2. Train the classifier: All classifiers in scikit-learn uses a fit(X, y) method to fit the model(training) for the given train data X and train label y.\n",
        "3. Predict the target: Given an unlabeled observation X, the predict(X) returns the predicted label y.\n",
        "4. Evaluate the classifier model"
      ]
    },
    {
      "cell_type": "markdown",
      "metadata": {
        "colab_type": "text",
        "id": "3gtGhX0NaFXE"
      },
      "source": [
        "**Let's discuss the code**\n",
        "\n",
        "Following code discusses binary classification problem.\n",
        "\n",
        "It classifies the image into two classes Airplane or Bird.\n",
        "\n",
        "The dataset used for training and testing contains 500 images of each class.\n",
        "\n",
        "Samples are taken from CIFAR-10 dataset.\n",
        "\n",
        "*******************************************************************************************************************************"
      ]
    },
    {
      "cell_type": "markdown",
      "metadata": {
        "colab_type": "text",
        "id": "flqdPvH3aFXG"
      },
      "source": [
        "**Import the necessary packages**"
      ]
    },
    {
      "cell_type": "code",
      "metadata": {
        "colab_type": "code",
        "id": "KnHZ5TbtaFXI",
        "colab": {}
      },
      "source": [
        "import os                   # accessing folders and files \n",
        "import numpy as np          # to use functions of numpy "
      ],
      "execution_count": null,
      "outputs": []
    },
    {
      "cell_type": "code",
      "metadata": {
        "colab_type": "code",
        "id": "ggLL_KnEaFXQ",
        "colab": {}
      },
      "source": [
        "from keras.models import Sequential          #  Sequential class is created and model layers are created and added to it\n",
        "from keras.layers import Activation, Dense   # \n",
        "from keras import optimizers\n",
        "from keras import applications\n",
        "from keras.models import Model\n",
        "import matplotlib.pyplot as plt\n",
        "from keras.utils import to_categorical  # Converts a class vector to binary class matrix."
      ],
      "execution_count": null,
      "outputs": []
    },
    {
      "cell_type": "code",
      "metadata": {
        "colab_type": "code",
        "id": "r4y7VrF3egca",
        "colab": {}
      },
      "source": [
        "# Only require for google colab \n",
        "#from google.colab import drive\n",
        "#drive.mount('/content/drive')"
      ],
      "execution_count": null,
      "outputs": []
    },
    {
      "cell_type": "markdown",
      "metadata": {
        "colab_type": "text",
        "id": "BtDzvj-JaFXV"
      },
      "source": [
        "**Following function reads images from the folder.**"
      ]
    },
    {
      "cell_type": "code",
      "metadata": {
        "colab_type": "code",
        "id": "cTU24E2gaFXW",
        "colab": {}
      },
      "source": [
        "def flatten_images(folder):               # Path of folder (dataset)\n",
        "    images=[]                             # list contatining  all images\n",
        "    for filename in os.listdir(folder):\n",
        "        print(filename)\n",
        "        img=plt.imread(folder+filename)  # reading image (Folder path and image name )\n",
        "        img=np.array(img)                #\n",
        "        img=img.flatten()                # Flatten image \n",
        "        images.append(img)               # Appending all images in 'images' list \n",
        "    return(images)"
      ],
      "execution_count": null,
      "outputs": []
    },
    {
      "cell_type": "code",
      "metadata": {
        "colab_type": "code",
        "id": "10AEtyKGaFXb",
        "colab": {}
      },
      "source": [
        "airplane_data=flatten_images('C:/Users/monuv/Desktop/ML_Lab/Day_3/ML_classification_KNN/ML_classification_KNN/data/airplane/')  # calling the function above to compute airplane images"
      ],
      "execution_count": null,
      "outputs": []
    },
    {
      "cell_type": "code",
      "metadata": {
        "colab_type": "code",
        "id": "JN-kMWPcaFXi",
        "colab": {}
      },
      "source": [
        "airplane_data=np.array(airplane_data)    # converting list into numpy array\n",
        "airplane_data.shape                      # print shape of array"
      ],
      "execution_count": null,
      "outputs": []
    },
    {
      "cell_type": "code",
      "metadata": {
        "colab_type": "code",
        "id": "iSmiKhdKaFXo",
        "colab": {}
      },
      "source": [
        "# same as above but for bird data\n",
        "bird_data=flatten_images('C:/Users/monuv/Desktop/ML_Lab/Day_3/ML_classification_KNN/ML_classification_KNN/data/bird/')\n",
        "bird_data=np.array(bird_data)\n",
        "bird_data.shape"
      ],
      "execution_count": null,
      "outputs": []
    },
    {
      "cell_type": "code",
      "metadata": {
        "colab_type": "code",
        "id": "-wjtuHphaFXv",
        "colab": {}
      },
      "source": [
        "# np.ones creates an array of ones (where 1 is the label) with only \n",
        "# one column and number of rows same as airplane images\n",
        "airplane_labels=np.ones((len(airplane_data),1))\n",
        "# np.zeros creates an array of ones (where 1 is the label) with only\n",
        "# one column and number of rows same as airplane features\n",
        "bird_labels=np.zeros((len(bird_data),1))"
      ],
      "execution_count": null,
      "outputs": []
    },
    {
      "cell_type": "markdown",
      "metadata": {
        "colab_type": "text",
        "id": "XgCtrxyBaFX0"
      },
      "source": [
        "**Create feature vector and corresponding label vector containing both the classes airplane and bird**"
      ]
    },
    {
      "cell_type": "code",
      "metadata": {
        "colab_type": "code",
        "id": "6col_ZEpaFX1",
        "colab": {}
      },
      "source": [
        "labels=np.concatenate((airplane_labels,bird_labels),axis=0)\n",
        "features=np.concatenate((airplane_data,bird_data),axis=0)"
      ],
      "execution_count": null,
      "outputs": []
    },
    {
      "cell_type": "code",
      "metadata": {
        "colab_type": "code",
        "id": "vmgHn2MSaFX5",
        "colab": {}
      },
      "source": [
        "from sklearn.model_selection import train_test_split\n",
        "# Split dataset into training set and test set\n",
        "X_train, X_test, y_train, y_test = train_test_split(features,labels,test_size=0.3)"
      ],
      "execution_count": null,
      "outputs": []
    },
    {
      "cell_type": "markdown",
      "metadata": {
        "colab_type": "text",
        "id": "QHRhqrLtaFX-"
      },
      "source": [
        "**ANN will be used for classification** "
      ]
    },
    {
      "cell_type": "code",
      "metadata": {
        "colab_type": "code",
        "id": "fPKlNtCzaFX_",
        "colab": {}
      },
      "source": [
        "# Build the model.\n",
        "model = Sequential([\n",
        "  Dense(1024, activation='relu', input_shape=(3072,)),\n",
        "  Dense(128, activation='relu'),\n",
        "  Dense(32, activation='relu'),  \n",
        "  Dense(2, activation='softmax'),\n",
        "])"
      ],
      "execution_count": null,
      "outputs": []
    },
    {
      "cell_type": "code",
      "metadata": {
        "colab_type": "code",
        "id": "2iBbdVIiaFYD",
        "colab": {}
      },
      "source": [
        "# Compile the model.\n",
        "import tensorflow as tf\n",
        "model.compile(\n",
        "  optimizer='adam',\n",
        "  loss='categorical_crossentropy',\n",
        "  metrics=['accuracy',tf.keras.metrics.AUC(),tf.keras.metrics.Precision(),tf.keras.metrics.Recall()]\n",
        ")\n",
        "\n",
        "# Train the model.\n",
        "history=model.fit(\n",
        "  X_train,\n",
        "  to_categorical(y_train),\n",
        "  epochs=30,\n",
        "  batch_size=128,\n",
        "  validation_data=(X_test, to_categorical(y_test))  # A binary matrix representation of the input.\n",
        ")"
      ],
      "execution_count": null,
      "outputs": []
    },
    {
      "cell_type": "code",
      "metadata": {
        "id": "5PL4CC5TJHU-",
        "colab_type": "code",
        "colab": {}
      },
      "source": [
        ""
      ],
      "execution_count": null,
      "outputs": []
    },
    {
      "cell_type": "code",
      "metadata": {
        "colab_type": "code",
        "id": "JfRi94YFaFYI",
        "colab": {}
      },
      "source": [
        "results=model.evaluate(X_test,to_categorical(y_test),batch_size=128)\n",
        "print('test loss', results[0])\n",
        "print('test acc', results[1])\n",
        "print('test auc', results[2])\n",
        "print('test precision', results[3])\n",
        "print('test recall', results[4])"
      ],
      "execution_count": null,
      "outputs": []
    },
    {
      "cell_type": "markdown",
      "metadata": {
        "colab_type": "text",
        "id": "BqPVWAH6aFYM"
      },
      "source": [
        "**Training and testing accuracy**"
      ]
    },
    {
      "cell_type": "code",
      "metadata": {
        "colab_type": "code",
        "id": "yc4BqkRSaFYN",
        "colab": {}
      },
      "source": [
        "import matplotlib.pyplot as plt\n",
        "# list all data in history\n",
        "print(history.history.keys())\n",
        "# summarize history for accuracy\n",
        "plt.plot(history.history['accuracy'])\n",
        "plt.plot(history.history['val_accuracy'])\n",
        "plt.title('Model Accuracy')\n",
        "plt.ylabel('accuracy')\n",
        "plt.xlabel('epoch')\n",
        "plt.legend(['train', 'test'], loc='upper left')\n",
        "plt.show()"
      ],
      "execution_count": null,
      "outputs": []
    },
    {
      "cell_type": "markdown",
      "metadata": {
        "colab_type": "text",
        "id": "LjXv_8YdaFYU"
      },
      "source": [
        "**Test each image inside test_images folder placed inside data folder and find its corresponding class**"
      ]
    },
    {
      "cell_type": "code",
      "metadata": {
        "colab_type": "code",
        "id": "E_fVsMVtaFYV",
        "colab": {}
      },
      "source": [
        "test_folder='C:/Users/monuv/Desktop/ML_Lab/Day_3/ML_classification_KNN/ML_classification_KNN/data/test_images/'\n",
        "results=[]\n",
        "for filename in os.listdir(test_folder):\n",
        "    temp=[]\n",
        "    img=plt.imread(test_folder+filename)\n",
        "    img=np.array(img)\n",
        "    img=img.flatten()\n",
        "    inp=np.reshape(img,(1,3072))\n",
        "    prediction_result=model.predict(inp)\n",
        "    x=np.argmax(prediction_result)\n",
        "    if(x==0):\n",
        "        pred_class_name='bird'\n",
        "    else:\n",
        "        x=1\n",
        "        pred_class_name='Airplane'\n",
        "    temp.append(filename)\n",
        "    temp.append(pred_class_name)\n",
        "    temp.append(prediction_result[0][x]*100)\n",
        "    results.append(temp)"
      ],
      "execution_count": null,
      "outputs": []
    },
    {
      "cell_type": "markdown",
      "metadata": {
        "colab_type": "text",
        "id": "J982qnnPaFYZ"
      },
      "source": [
        "**Results with image name and predicted class name**"
      ]
    },
    {
      "cell_type": "code",
      "metadata": {
        "colab_type": "code",
        "id": "72yYj8zpaFYa",
        "colab": {}
      },
      "source": [
        "results=np.array(results)"
      ],
      "execution_count": null,
      "outputs": []
    },
    {
      "cell_type": "code",
      "metadata": {
        "colab_type": "code",
        "id": "GD7Yx0LBaFYd",
        "colab": {}
      },
      "source": [
        "results"
      ],
      "execution_count": null,
      "outputs": []
    },
    {
      "cell_type": "code",
      "metadata": {
        "colab_type": "code",
        "id": "5_VYBl2vaFYj",
        "colab": {}
      },
      "source": [
        ""
      ],
      "execution_count": null,
      "outputs": []
    },
    {
      "cell_type": "markdown",
      "metadata": {
        "colab_type": "text",
        "id": "vlWZbTAzaFYn"
      },
      "source": [
        "References:\n",
        "1. https://scikit-learn.org/stable/\n",
        "2. https://towardsdatascience.com/building-our-first-neural-network-in-keras-bdc8abbc17f5\n",
        "3. https://keras.io/"
      ]
    },
    {
      "cell_type": "markdown",
      "metadata": {
        "colab_type": "text",
        "id": "ICo3IrXHaFYo"
      },
      "source": [
        ""
      ]
    },
    {
      "cell_type": "code",
      "metadata": {
        "colab_type": "code",
        "id": "GaL83pELaFYo",
        "colab": {}
      },
      "source": [
        ""
      ],
      "execution_count": null,
      "outputs": []
    }
  ]
}